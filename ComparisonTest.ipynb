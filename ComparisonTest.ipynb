{
  "nbformat": 4,
  "nbformat_minor": 0,
  "metadata": {
    "colab": {
      "provenance": [],
      "include_colab_link": true
    },
    "kernelspec": {
      "name": "python3",
      "display_name": "Python 3"
    },
    "language_info": {
      "name": "python"
    }
  },
  "cells": [
    {
      "cell_type": "markdown",
      "metadata": {
        "id": "view-in-github",
        "colab_type": "text"
      },
      "source": [
        "<a href=\"https://colab.research.google.com/github/kthopeleee/MedicalCNNProject/blob/main/ComparisonTest.ipynb\" target=\"_parent\"><img src=\"https://colab.research.google.com/assets/colab-badge.svg\" alt=\"Open In Colab\"/></a>"
      ]
    },
    {
      "cell_type": "code",
      "metadata": {
        "colab": {
          "base_uri": "https://localhost:8080/"
        },
        "id": "6e-JyPItfu-m",
        "outputId": "d68f696e-95c0-43ce-af74-c8002aee79fa"
      },
      "source": [
        "import cv2\n",
        "import glob\n",
        "import numpy as np\n",
        "#from PIL import Image, ImageChops\n",
        "#from random import randrange\n",
        "#import matplotlib.pyplot as plt\n",
        "print (cv2. __version__ )"
      ],
      "execution_count": null,
      "outputs": [
        {
          "output_type": "stream",
          "text": [
            "4.1.2\n"
          ],
          "name": "stdout"
        }
      ]
    },
    {
      "cell_type": "code",
      "metadata": {
        "id": "m1iJ5w9ef7b_"
      },
      "source": [
        "\n",
        "#files = glob.glob (\"/Users/klee22/Desktop/save/New_Vid_copy/*.png\")\n",
        "#files2 = glob.glob (\"/users/klee22/Desktop/save/New_vid_copy2/*.png\")\n",
        "#files.sort()\n",
        "#files2.sort()"
      ],
      "execution_count": null,
      "outputs": []
    },
    {
      "cell_type": "code",
      "metadata": {
        "colab": {
          "base_uri": "https://localhost:8080/"
        },
        "id": "zYs-Sv3Vg0m6",
        "outputId": "46d1f5d4-2836-4f18-ee05-f797d479140e"
      },
      "source": [
        "import sys\n",
        "if 'google.colab' in sys.modules:\n",
        "  from google.colab import drive\n",
        "  drive.mount('/content/drive/',force_remount=True)\n",
        "  #path= '/content/drive/My Drive/Research/Photo/Test2/'\n",
        "  #! ls '/content/drive/My Drive/Research/Photo/Test2/'\n",
        "  files = glob.glob (\"/content/drive/My Drive/Research/Photo/save/New_Vid_copy\")\n",
        "  files2 = glob.glob (\"//content/drive/My Drive/Research/Photo/save/New_vid_copy2\")\n",
        "  ! ls '/content/drive/My Drive/Research/Photo/save/Old_Vid_6pic'\n",
        "  ! ls '/content/drive/My Drive/Research/Photo/save/New_Vid_copy'\n",
        "\n",
        "files.sort()\n",
        "files2.sort()\n",
        "print (\"all good\")"
      ],
      "execution_count": null,
      "outputs": [
        {
          "output_type": "stream",
          "text": [
            "Mounted at /content/drive/\n",
            "0.png  10.png  20.png  30.png  40.png  50.png\n",
            "0.png  10.png  20.png  30.png  40.png  50.png\n",
            "all good\n"
          ],
          "name": "stdout"
        }
      ]
    },
    {
      "cell_type": "code",
      "metadata": {
        "id": "J11TUaC6f7l3"
      },
      "source": [
        "X_data = []\n",
        "Y_data = []"
      ],
      "execution_count": null,
      "outputs": []
    },
    {
      "cell_type": "code",
      "metadata": {
        "colab": {
          "base_uri": "https://localhost:8080/"
        },
        "id": "NiguIYoJf7tK",
        "outputId": "e75bf6a4-c6e0-46cf-df2a-c24ce212c78a"
      },
      "source": [
        "#Reads the Files as cv2\n",
        "for myFile in files:\n",
        "  image = cv2.imread(myFile, cv2.IMREAD_COLOR) #enumerated constants\n",
        "  X_data.append (image)\n",
        "\n",
        "print(np.sum(X_data[0]))\n",
        "\n",
        "for myFile2 in files2:\n",
        "  image2 = cv2.imread (myFile2, cv2.IMREAD_COLOR)\n",
        "  Y_data.append (image2)\n",
        "\n",
        "# create multi-dim array by providing shape\n",
        "print('X_data shape:', np.array(X_data).shape)\n",
        "print('Y_data shape:', np.array(Y_data).shape)\n"
      ],
      "execution_count": null,
      "outputs": [
        {
          "output_type": "stream",
          "text": [
            "None\n",
            "X_data shape: (1,)\n",
            "Y_data shape: (0,)\n"
          ],
          "name": "stdout"
        }
      ]
    },
    {
      "cell_type": "code",
      "metadata": {
        "colab": {
          "base_uri": "https://localhost:8080/"
        },
        "id": "SHeKjLGIf7xS",
        "outputId": "50c66295-3fb1-48b5-b009-48eac0548a78"
      },
      "source": [
        "numpic_x = len(X_data)\n",
        "numpic_y = len(Y_data)\n",
        "print(numpic_y)\n",
        "print(numpic_x)\n",
        "comparison_data = np.zeros(shape=(numpic_x, numpic_y)) #create an empty grid that has space for the data from the for loop"
      ],
      "execution_count": null,
      "outputs": [
        {
          "output_type": "stream",
          "text": [
            "0\n",
            "1\n"
          ],
          "name": "stdout"
        }
      ]
    },
    {
      "cell_type": "code",
      "metadata": {
        "id": "NrTDDz8vf71V"
      },
      "source": [
        "x = 0\n",
        "for ref_image in X_data:\n",
        "  y = 0\n",
        "  for new_image in Y_data:\n",
        "    # if X_data[x].shape == Y_data[y].shape:\n",
        "    #   print(\"The images have same size and channels\")\n",
        "    #   difference = cv2.subtract(X_data[x], Y_data[y])\n",
        "    #   b, g, r = cv2.split(difference)\n",
        "    #   if cv2.countNonZero(b) == 0 and cv2.countNonZero(g) == 0 and cv2.countNonZero(r) == 0:\n",
        "    #     print(\"The images are completely Equal\")\n",
        "    #     comparison_data[x][y] = 1\n",
        "\n",
        "    #   else:\n",
        "    print(\"The images are NOT equal\")\n",
        "    #SSIM\n",
        "    #sift = cv2.xfeatures2d.SIFT_create()\n",
        "    sift = cv2.SIFT_create()\n",
        "    kp_1, desc_1 = sift.detectAndCompute(X_data[x], None)\n",
        "    kp_2, desc_2 = sift.detectAndCompute(Y_data[y], None)\n",
        "\n",
        "    index_params = dict(algorithm=0, trees=5)\n",
        "    search_params = dict()\n",
        "    flann = cv2.FlannBasedMatcher(index_params, search_params)\n",
        "\n",
        "    matches = flann.knnMatch(desc_1, desc_2, k=2)\n",
        "\n",
        "    good_points = []\n",
        "\n",
        "    for m, n in matches:\n",
        "      if m.distance < 0.6*n.distance:\n",
        "        good_points.append(m)\n",
        "\n",
        "    # Define how similar they are\n",
        "    number_keypoints = 0\n",
        "    if len(kp_1) <= len(kp_2):\n",
        "      number_keypoints = len(kp_1)\n",
        "    else:\n",
        "      number_keypoints = len(kp_2)\n",
        "\n",
        "\n",
        "    print(\"Keypoints 1ST Image: \" + str(len(kp_1)))\n",
        "    print(\"Keypoints 2ND Image: \" + str(len(kp_2)))\n",
        "    print(\"GOOD Matches:\", len(good_points))\n",
        "    print(\"How good it's the match: \", len(good_points) / number_keypoints * 100)\n",
        "\n",
        "    good_match = len(good_points) / number_keypoints * 100\n",
        "    comparison_data[x][y] = good_match\n",
        "\n",
        "    #result = cv2.drawMatches(X_data[x], kp_1, Y_data[y], kp_2, good_points, None)\n",
        "\n",
        "    #cv2.imshow(\"result\", cv2.resize(result, None, fx=0.4, fy=0.4))\n",
        "    #cv2.imwrite(\"feature_matching.jpg\", result)\n",
        "\n",
        "    #print(comparison_data)\n",
        "    y += 1\n",
        "  x += 1"
      ],
      "execution_count": null,
      "outputs": []
    },
    {
      "cell_type": "code",
      "metadata": {
        "colab": {
          "base_uri": "https://localhost:8080/"
        },
        "id": "nLy0TfP-f74u",
        "outputId": "ad57a8a9-7e53-46b3-af42-704491f8efe0"
      },
      "source": [
        "print(comparison_data)"
      ],
      "execution_count": null,
      "outputs": [
        {
          "output_type": "stream",
          "text": [
            "[]\n"
          ],
          "name": "stdout"
        }
      ]
    },
    {
      "cell_type": "code",
      "metadata": {
        "colab": {
          "base_uri": "https://localhost:8080/",
          "height": 223
        },
        "id": "ga6XLeqSf78r",
        "outputId": "4072688c-ad28-4de8-bf68-356ae4ac8ea2"
      },
      "source": [
        "comparison_points_very_good = []\n",
        "# for i in range(0, len(comparison_data)):\n",
        "#   max = 0\n",
        "#   for j in comparison_data[i]:\n",
        "#     if j > max:\n",
        "#       max = j\n",
        "#     comparison_points_very_good.append(max)\n",
        "\n",
        "# arrays = [[]]\n",
        "# maxArray = []\n",
        "\n",
        "# for i in arrays:\n",
        "#     maxArray.append(max(i))\n",
        "\n",
        "#maxArray = []\n",
        "\n",
        "#m = max(a)\n",
        "#[i for i, j in enumerate(a) if j == m]\n",
        "#x = 0\n",
        "for i in comparison_data:\n",
        "  comparison_points_very_good.append(max(i))\n",
        "  #np.amax()\n",
        "  #max_index = comparison_data.index(max_value)\n",
        "  #x = x+1"
      ],
      "execution_count": null,
      "outputs": [
        {
          "output_type": "error",
          "ename": "ValueError",
          "evalue": "ignored",
          "traceback": [
            "\u001b[0;31m---------------------------------------------------------------------------\u001b[0m",
            "\u001b[0;31mValueError\u001b[0m                                Traceback (most recent call last)",
            "\u001b[0;32m<ipython-input-11-bd134ef518ce>\u001b[0m in \u001b[0;36m<module>\u001b[0;34m()\u001b[0m\n\u001b[1;32m     19\u001b[0m \u001b[0;31m#x = 0\u001b[0m\u001b[0;34m\u001b[0m\u001b[0;34m\u001b[0m\u001b[0;34m\u001b[0m\u001b[0m\n\u001b[1;32m     20\u001b[0m \u001b[0;32mfor\u001b[0m \u001b[0mi\u001b[0m \u001b[0;32min\u001b[0m \u001b[0mcomparison_data\u001b[0m\u001b[0;34m:\u001b[0m\u001b[0;34m\u001b[0m\u001b[0;34m\u001b[0m\u001b[0m\n\u001b[0;32m---> 21\u001b[0;31m   \u001b[0mcomparison_points_very_good\u001b[0m\u001b[0;34m.\u001b[0m\u001b[0mappend\u001b[0m\u001b[0;34m(\u001b[0m\u001b[0mmax\u001b[0m\u001b[0;34m(\u001b[0m\u001b[0mi\u001b[0m\u001b[0;34m)\u001b[0m\u001b[0;34m)\u001b[0m\u001b[0;34m\u001b[0m\u001b[0;34m\u001b[0m\u001b[0m\n\u001b[0m\u001b[1;32m     22\u001b[0m   \u001b[0;31m#np.amax()\u001b[0m\u001b[0;34m\u001b[0m\u001b[0;34m\u001b[0m\u001b[0;34m\u001b[0m\u001b[0m\n\u001b[1;32m     23\u001b[0m   \u001b[0;31m#max_index = comparison_data.index(max_value)\u001b[0m\u001b[0;34m\u001b[0m\u001b[0;34m\u001b[0m\u001b[0;34m\u001b[0m\u001b[0m\n",
            "\u001b[0;31mValueError\u001b[0m: max() arg is an empty sequence"
          ]
        }
      ]
    },
    {
      "cell_type": "code",
      "metadata": {
        "colab": {
          "base_uri": "https://localhost:8080/"
        },
        "id": "gNpTcwLnf7_f",
        "outputId": "7886bae5-16d2-413f-cc91-a56342a0de4e"
      },
      "source": [
        "offset = []\n",
        "#for i in range(0,5):  #len(x)\n",
        "for y in range(0, numpic_y):\n",
        "  big_value = 0\n",
        "  big_index = 0\n",
        "  for i in range(0, numpic_x):\n",
        "    if big_value < comparison_data[y][i]:\n",
        "      big_value = comparison_data[y][i]\n",
        "      big_index = i\n",
        "  offset.append((big_index - y) % (numpic_x))\n",
        "\n",
        "\n",
        "print(offset) #shows the biggest number and how the largest offset it does take; 4+1 4+2 = 5 6%6 offset + rownum % numpic\n",
        "\n",
        "\n"
      ],
      "execution_count": null,
      "outputs": [
        {
          "output_type": "stream",
          "text": [
            "[]\n"
          ],
          "name": "stdout"
        }
      ]
    },
    {
      "cell_type": "code",
      "metadata": {
        "id": "UYCSR_-If8B9"
      },
      "source": [
        "#print(\"Large index for X axis: \" big_index)\n",
        "#print(\"Large value for X axis: \" big_value)\n",
        "\n",
        "#print(max_index)\n",
        "#print(comparison_points_very_good)\n",
        "#print(comparison_data.argmax())\n"
      ],
      "execution_count": null,
      "outputs": []
    }
  ]
}